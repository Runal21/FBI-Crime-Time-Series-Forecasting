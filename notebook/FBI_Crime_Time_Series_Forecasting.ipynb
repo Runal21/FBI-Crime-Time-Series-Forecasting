{
  "nbformat": 4,
  "nbformat_minor": 0,
  "metadata": {
    "colab": {
      "private_outputs": true,
      "provenance": [],
      "collapsed_sections": [
        "mDgbUHAGgjLW"
      ]
    },
    "kernelspec": {
      "name": "python3",
      "display_name": "Python 3"
    },
    "language_info": {
      "name": "python"
    }
  },
  "cells": [
    {
      "cell_type": "markdown",
      "source": [
        "# **Project Name**    - FBI Crime Time Series Forecasting\n"
      ],
      "metadata": {
        "id": "vncDsAP0Gaoa"
      }
    },
    {
      "cell_type": "markdown",
      "source": [
        "##### **Project Type**    - EDA\n",
        "##### **Contribution**    - Individual"
      ],
      "metadata": {
        "id": "beRrZCGUAJYm"
      }
    },
    {
      "cell_type": "markdown",
      "source": [
        "# **Project Summary -**"
      ],
      "metadata": {
        "id": "FJNUwmbgGyua"
      }
    },
    {
      "cell_type": "markdown",
      "source": [
        "**🔍 Project Objective:**  \n",
        "This project aims to analyze and forecast crime trends using historical FBI crime data. Through **Exploratory Data Analysis (EDA)** and **time series forecasting techniques**, we will identify trends, seasonality, and anomalies in the data, enabling accurate crime predictions for strategic decision-making.\n",
        "\n",
        "---\n",
        "\n",
        "### **📂 Project Workflow:**\n",
        "1️⃣ **Data Understanding & Preprocessing**  \n",
        "   - Load and inspect dataset structure.  \n",
        "   - Handle missing values, duplicates, and data inconsistencies.  \n",
        "   - Convert timestamps into appropriate formats.  \n",
        "\n",
        "2️⃣ **Exploratory Data Analysis (EDA)**  \n",
        "   - Perform summary statistics.  \n",
        "   - Visualize crime trends over time.  \n",
        "   - Check for seasonality, outliers, and stationarity.  \n",
        "\n",
        "3️⃣ **Time Series Decomposition & Feature Engineering**  \n",
        "   - Break down time series into trend, seasonality, and residuals.  \n",
        "   - Create new time-based features and lag-based variables.  \n"
      ],
      "metadata": {
        "id": "F6v_1wHtG2nS"
      }
    },
    {
      "cell_type": "markdown",
      "source": [
        "# **GitHub Link -**"
      ],
      "metadata": {
        "id": "w6K7xa23Elo4"
      }
    },
    {
      "cell_type": "markdown",
      "source": [
        "https://github.com/Runal21/FBI-Crime-Time-Series-Forecasting"
      ],
      "metadata": {
        "id": "h1o69JH3Eqqn"
      }
    },
    {
      "cell_type": "markdown",
      "source": [
        "# **Problem Statement**\n"
      ],
      "metadata": {
        "id": "yQaldy8SH6Dl"
      }
    },
    {
      "cell_type": "markdown",
      "source": [
        "**🔍 Problem Statement:**  \n",
        "Crime forecasting is crucial for law enforcement agencies to allocate resources efficiently, prevent criminal activities, and improve public safety. The FBI records historical crime data, but without proper analysis and forecasting, decision-making remains reactive rather than proactive.  \n",
        "\n",
        "This project aims to analyze historical FBI crime data using **Exploratory Data Analysis (EDA) and Time Series Forecasting** to uncover crime trends, seasonal patterns, and future projections. The insights generated will help authorities make data-driven decisions for crime prevention and law enforcement planning."
      ],
      "metadata": {
        "id": "DpeJGUA3kjGy"
      }
    },
    {
      "cell_type": "markdown",
      "source": [
        "#### **Define Your Business Objective?**"
      ],
      "metadata": {
        "id": "PH-0ReGfmX4f"
      }
    },
    {
      "cell_type": "markdown",
      "source": [
        "**🎯 Business Objective:**  \n",
        "\n",
        "✅ **Understand & Analyze Crime Trends** – Detect patterns in crime data over time (e.g., increasing/decreasing trends).  \n",
        "✅ **Identify Seasonality & Anomalies** – Recognize seasonal crime patterns (e.g., high crime rates during certain months).  \n",
        "✅ **Develop an Accurate Forecasting Model** – Predict future crime trends using statistical and machine learning models.  \n",
        "✅ **Optimize Resource Allocation** – Help law enforcement distribute resources efficiently based on forecasted crime spikes.  \n",
        "✅ **Enhance Public Safety & Policy Planning** – Provide actionable insights to policymakers for crime prevention strategies.  \n"
      ],
      "metadata": {
        "id": "PhDvGCAqmjP1"
      }
    },
    {
      "cell_type": "markdown",
      "source": [
        "# **General Guidelines** : -  "
      ],
      "metadata": {
        "id": "mDgbUHAGgjLW"
      }
    },
    {
      "cell_type": "markdown",
      "source": [
        "1.   Well-structured, formatted, and commented code is required.\n",
        "2.   Exception Handling, Production Grade Code & Deployment Ready Code will be a plus. Those students will be awarded some additional credits.\n",
        "     \n",
        "     The additional credits will have advantages over other students during Star Student selection.\n",
        "       \n",
        "             [ Note: - Deployment Ready Code is defined as, the whole .ipynb notebook should be executable in one go\n",
        "                       without a single error logged. ]\n",
        "\n",
        "3.   Each and every logic should have proper comments.\n",
        "4. You may add as many number of charts you want. Make Sure for each and every chart the following format should be answered.\n",
        "        \n",
        "\n",
        "```\n",
        "# Chart visualization code\n",
        "```\n",
        "            \n",
        "\n",
        "*   Why did you pick the specific chart?\n",
        "*   What is/are the insight(s) found from the chart?\n",
        "* Will the gained insights help creating a positive business impact?\n",
        "Are there any insights that lead to negative growth? Justify with specific reason.\n",
        "\n",
        "5. You have to create at least 20 logical & meaningful charts having important insights.\n",
        "\n",
        "\n",
        "[ Hints : - Do the Vizualization in  a structured way while following \"UBM\" Rule.\n",
        "\n",
        "U - Univariate Analysis,\n",
        "\n",
        "B - Bivariate Analysis (Numerical - Categorical, Numerical - Numerical, Categorical - Categorical)\n",
        "\n",
        "M - Multivariate Analysis\n",
        " ]\n",
        "\n",
        "\n",
        "\n"
      ],
      "metadata": {
        "id": "ZrxVaUj-hHfC"
      }
    },
    {
      "cell_type": "markdown",
      "source": [
        "# ***Let's Begin !***"
      ],
      "metadata": {
        "id": "O_i_v8NEhb9l"
      }
    },
    {
      "cell_type": "markdown",
      "source": [
        "## ***1. Know Your Data***"
      ],
      "metadata": {
        "id": "HhfV-JJviCcP"
      }
    },
    {
      "cell_type": "markdown",
      "source": [
        "### Import Libraries"
      ],
      "metadata": {
        "id": "Y3lxredqlCYt"
      }
    },
    {
      "cell_type": "code",
      "source": [
        "#Import Necessary Libraries\n",
        "import pandas as pd\n",
        "import numpy as np\n",
        "import matplotlib.pyplot as plt\n",
        "import seaborn as sns\n",
        "import warnings\n",
        "warnings.filterwarnings('ignore')\n"
      ],
      "metadata": {
        "id": "M8Vqi-pPk-HR"
      },
      "execution_count": null,
      "outputs": []
    },
    {
      "cell_type": "markdown",
      "source": [
        "### Dataset Loading"
      ],
      "metadata": {
        "id": "3RnN4peoiCZX"
      }
    },
    {
      "cell_type": "code",
      "source": [
        "# Load Dataset\n",
        "\n",
        "file_path = \"Train.xlsx\"\n",
        "df = pd.read_excel(file_path)"
      ],
      "metadata": {
        "id": "4CkvbW_SlZ_R"
      },
      "execution_count": null,
      "outputs": []
    },
    {
      "cell_type": "markdown",
      "source": [
        "### Dataset First View"
      ],
      "metadata": {
        "id": "x71ZqKXriCWQ"
      }
    },
    {
      "cell_type": "code",
      "source": [
        "# Dataset First Look\n",
        "\n",
        "df_head = df.head()\n",
        "df_head"
      ],
      "metadata": {
        "id": "LWNFOSvLl09H"
      },
      "execution_count": null,
      "outputs": []
    },
    {
      "cell_type": "markdown",
      "source": [
        "### Dataset Rows & Columns count"
      ],
      "metadata": {
        "id": "7hBIi_osiCS2"
      }
    },
    {
      "cell_type": "code",
      "source": [
        "# Dataset Rows & Columns count\n",
        "dataset_shape = df.shape\n",
        "\n",
        "dataset_shape"
      ],
      "metadata": {
        "id": "Kllu7SJgmLij"
      },
      "execution_count": null,
      "outputs": []
    },
    {
      "cell_type": "markdown",
      "source": [
        "### Dataset Information"
      ],
      "metadata": {
        "id": "JlHwYmJAmNHm"
      }
    },
    {
      "cell_type": "code",
      "source": [
        "# Dataset Info\n",
        "\n",
        "dataset_info = df.info()\n",
        "dataset_info"
      ],
      "metadata": {
        "id": "e9hRXRi6meOf"
      },
      "execution_count": null,
      "outputs": []
    },
    {
      "cell_type": "markdown",
      "source": [
        "#### Duplicate Values"
      ],
      "metadata": {
        "id": "35m5QtbWiB9F"
      }
    },
    {
      "cell_type": "code",
      "source": [
        "# Dataset Duplicate Value Count\n",
        "\n",
        "duplicate_count = df.duplicated().sum()\n",
        "duplicate_count"
      ],
      "metadata": {
        "id": "1sLdpKYkmox0"
      },
      "execution_count": null,
      "outputs": []
    },
    {
      "cell_type": "markdown",
      "source": [
        "#### Missing Values/Null Values"
      ],
      "metadata": {
        "id": "PoPl-ycgm1ru"
      }
    },
    {
      "cell_type": "code",
      "source": [
        "# Missing Values/Null Values Count\n",
        "\n",
        "missing_values = df.isnull().sum()\n",
        "missing_values\n"
      ],
      "metadata": {
        "id": "GgHWkxvamxVg"
      },
      "execution_count": null,
      "outputs": []
    },
    {
      "cell_type": "code",
      "source": [
        "# Visualizing the missing values\n",
        "\n",
        "# Set figure size\n",
        "plt.figure(figsize=(10, 6))\n",
        "\n",
        "# Create a heatmap to visualize missing values\n",
        "sns.heatmap(df.isnull(), cmap=\"viridis\", cbar=False, yticklabels=False)\n",
        "\n",
        "# Add title\n",
        "plt.title(\"Missing Values Heatmap\", fontsize=14)\n",
        "\n",
        "# Show plot\n",
        "plt.show()\n"
      ],
      "metadata": {
        "id": "3q5wnI3om9sJ"
      },
      "execution_count": null,
      "outputs": []
    },
    {
      "cell_type": "markdown",
      "source": [
        "### What did you know about your dataset?"
      ],
      "metadata": {
        "id": "H0kj-8xxnORC"
      }
    },
    {
      "cell_type": "markdown",
      "source": [
        "**📊 Dataset Insights**  \n",
        "\n",
        "✅ **Dataset Information:**  \n",
        "- 13 columns with different data types:  \n",
        "  - **Categorical:** `TYPE`, `HUNDRED_BLOCK`, `NEIGHBOURHOOD`  \n",
        "  - **Numerical:** `X`, `Y`, `Latitude`, `Longitude`, `HOUR`, `MINUTE`, `YEAR`, `MONTH`, `DAY`  \n",
        "  - **Date-Time:** `Date`  \n",
        "\n",
        "✅ **Duplicate Values:**  \n",
        "- **0 duplicate rows** (No duplicates found).  \n",
        "\n",
        "✅ **Missing Values:**  \n",
        "- **NEIGHBOURHOOD:** 10 missing values  \n",
        "- **HOUR & MINUTE:** 10 missing values each  \n"
      ],
      "metadata": {
        "id": "gfoNAAC-nUe_"
      }
    },
    {
      "cell_type": "markdown",
      "source": [
        "## ***2. Understanding Your Variables***"
      ],
      "metadata": {
        "id": "nA9Y7ga8ng1Z"
      }
    },
    {
      "cell_type": "code",
      "source": [
        "# Dataset Columns\n",
        "\n",
        "dataset_columns = df.columns.tolist()\n",
        "dataset_columns\n"
      ],
      "metadata": {
        "id": "j7xfkqrt5Ag5"
      },
      "execution_count": null,
      "outputs": []
    },
    {
      "cell_type": "code",
      "source": [
        "# Dataset Describe\n",
        "\n",
        "dataset_description = df.describe()\n",
        "dataset_description\n"
      ],
      "metadata": {
        "id": "DnOaZdaE5Q5t"
      },
      "execution_count": null,
      "outputs": []
    },
    {
      "cell_type": "markdown",
      "source": [
        "### Variables Description"
      ],
      "metadata": {
        "id": "PBTbrJXOngz2"
      }
    },
    {
      "cell_type": "markdown",
      "source": [
        "Answer Here"
      ],
      "metadata": {
        "id": "aJV4KIxSnxay"
      }
    },
    {
      "cell_type": "markdown",
      "source": [
        "### Check Unique Values for each variable."
      ],
      "metadata": {
        "id": "u3PMJOP6ngxN"
      }
    },
    {
      "cell_type": "code",
      "source": [
        "# Check Unique Values for each variable.\n",
        "unique_values = {col: df[col].nunique() for col in df.columns}\n",
        "unique_values"
      ],
      "metadata": {
        "id": "zms12Yq5n-jE"
      },
      "execution_count": null,
      "outputs": []
    },
    {
      "cell_type": "markdown",
      "source": [
        "## 3. ***Data Wrangling***"
      ],
      "metadata": {
        "id": "dauF4eBmngu3"
      }
    },
    {
      "cell_type": "markdown",
      "source": [
        "### Data Wrangling Code"
      ],
      "metadata": {
        "id": "bKJF3rekwFvQ"
      }
    },
    {
      "cell_type": "code",
      "source": [
        "# Write your code to make your dataset analysis ready.\n",
        "\n",
        "# Step 1: Handle Missing Values\n",
        "df['NEIGHBOURHOOD'].fillna('Unknown', inplace=True)\n",
        "df['HOUR'].fillna(df['HOUR'].median(), inplace=True)\n",
        "df['MINUTE'].fillna(df['MINUTE'].median(), inplace=True)\n",
        "\n",
        "# Step 2: Convert Data Types\n",
        "df['HOUR'] = df['HOUR'].astype(int)\n",
        "df['MINUTE'] = df['MINUTE'].astype(int)\n",
        "\n",
        "# Step 3: Feature Engineering\n",
        "df['WEEKDAY'] = df['Date'].dt.day_name()\n",
        "\n",
        "# Step 4: Identify Outliers (Longitude & Latitude should not be 0)\n",
        "outlier_longitude = df[df['Longitude'] == 0]\n",
        "outlier_latitude = df[df['Latitude'] == 0]\n",
        "\n",
        "# Remove invalid location entries\n",
        "df = df[df['Longitude'] != 0]\n",
        "\n",
        "# Display cleaned dataset shape and outliers removed\n",
        "df.shape, outlier_longitude.shape, outlier_latitude.shape\n"
      ],
      "metadata": {
        "id": "wk-9a2fpoLcV"
      },
      "execution_count": null,
      "outputs": []
    },
    {
      "cell_type": "markdown",
      "source": [
        "### What all manipulations have you done and insights you found?"
      ],
      "metadata": {
        "id": "MSa1f5Uengrz"
      }
    },
    {
      "cell_type": "markdown",
      "source": [
        "**📊 Data Wrangling Summary**  \n",
        "\n",
        "✅ **Missing Values Handled:**  \n",
        "- `NEIGHBOURHOOD` → Replaced missing values with `\"Unknown\"`.  \n",
        "- `HOUR` & `MINUTE` → Filled missing values with the median.  \n",
        "\n",
        "✅ **Data Type Conversions:**  \n",
        "- `HOUR` & `MINUTE` → Converted to integers for analysis.  \n",
        "\n",
        "✅ **Feature Engineering:**  \n",
        "- Added `WEEKDAY` column to analyze crimes by day of the week.  \n",
        "\n",
        "✅ **Outliers Identified & Removed:**  \n",
        "- **10 rows had invalid coordinates (`Longitude = 0`, `Latitude = 0`)** → Removed.  \n"
      ],
      "metadata": {
        "id": "LbyXE7I1olp8"
      }
    },
    {
      "cell_type": "markdown",
      "source": [
        "## ***4. Data Vizualization, Storytelling & Experimenting with charts : Understand the relationships between variables***"
      ],
      "metadata": {
        "id": "GF8Ens_Soomf"
      }
    },
    {
      "cell_type": "markdown",
      "source": [
        "#### Chart - 1"
      ],
      "metadata": {
        "id": "0wOQAZs5pc--"
      }
    },
    {
      "cell_type": "code",
      "source": [
        "# Chart - 1: Crime Type Distribution (Bar Chart)\n",
        "\n",
        "import seaborn as sns\n",
        "import matplotlib.pyplot as plt\n",
        "\n",
        "# Set figure size\n",
        "plt.figure(figsize=(10, 6))\n",
        "\n",
        "# Count occurrences of each crime type\n",
        "crime_counts = df['TYPE'].value_counts()\n",
        "\n",
        "# Create a bar plot\n",
        "sns.barplot(x=crime_counts.index, y=crime_counts.values, palette=\"viridis\")\n",
        "\n",
        "# Add labels and title\n",
        "plt.xlabel(\"Crime Type\", fontsize=12)\n",
        "plt.ylabel(\"Number of Crimes\", fontsize=12)\n",
        "plt.title(\"Crime Type Distribution\", fontsize=14)\n",
        "plt.xticks(rotation=45)  # Rotate x-axis labels for better readability\n",
        "\n",
        "# Show plot\n",
        "plt.show()\n"
      ],
      "metadata": {
        "id": "7v_ESjsspbW7"
      },
      "execution_count": null,
      "outputs": []
    },
    {
      "cell_type": "markdown",
      "source": [
        "##### 1. Why did you pick the specific chart?"
      ],
      "metadata": {
        "id": "K5QZ13OEpz2H"
      }
    },
    {
      "cell_type": "markdown",
      "source": [
        "\n",
        "- A **bar chart** is ideal for visualizing categorical data like crime types.  \n",
        "- It effectively highlights which crime type occurs most frequently.  "
      ],
      "metadata": {
        "id": "XESiWehPqBRc"
      }
    },
    {
      "cell_type": "markdown",
      "source": [
        "##### 2. What is/are the insight(s) found from the chart?"
      ],
      "metadata": {
        "id": "lQ7QKXXCp7Bj"
      }
    },
    {
      "cell_type": "markdown",
      "source": [
        "  \n",
        "- Some crime types are significantly more common than others.  \n",
        "- The distribution may indicate high-risk crime types requiring more attention.  \n"
      ],
      "metadata": {
        "id": "C_j1G7yiqdRP"
      }
    },
    {
      "cell_type": "markdown",
      "source": [
        "##### 3. Will the gained insights help creating a positive business impact?\n",
        "Are there any insights that lead to negative growth? Justify with specific reason."
      ],
      "metadata": {
        "id": "448CDAPjqfQr"
      }
    },
    {
      "cell_type": "markdown",
      "source": [
        "\n",
        "- **Positive Impact:** Identifies the most frequent crimes, helping law enforcement prioritize.  \n",
        "- **Negative Impact:** If high-crime categories increase, it may indicate rising crime trends, requiring policy intervention."
      ],
      "metadata": {
        "id": "3cspy4FjqxJW"
      }
    },
    {
      "cell_type": "markdown",
      "source": [
        "#### Chart - 2"
      ],
      "metadata": {
        "id": "KSlN3yHqYklG"
      }
    },
    {
      "cell_type": "code",
      "source": [
        " # Chart - 2: Top 10 Crime Locations (Bar Chart)\n",
        "\n",
        "# Count occurrences of crimes by location\n",
        "top_locations = df['HUNDRED_BLOCK'].value_counts().head(10)\n",
        "\n",
        "# Set figure size\n",
        "plt.figure(figsize=(12, 6))\n",
        "\n",
        "# Create a bar plot\n",
        "sns.barplot(x=top_locations.values, y=top_locations.index, palette=\"magma\")\n",
        "\n",
        "# Add labels and title\n",
        "plt.xlabel(\"Number of Crimes\", fontsize=12)\n",
        "plt.ylabel(\"Location (Hundred Block)\", fontsize=12)\n",
        "plt.title(\"Top 10 Crime Locations\", fontsize=14)\n",
        "\n",
        "# Show plot\n",
        "plt.show()\n"
      ],
      "metadata": {
        "id": "R4YgtaqtYklH"
      },
      "execution_count": null,
      "outputs": []
    },
    {
      "cell_type": "markdown",
      "source": [
        "##### 1. Why did you pick the specific chart?"
      ],
      "metadata": {
        "id": "t6dVpIINYklI"
      }
    },
    {
      "cell_type": "markdown",
      "source": [
        "\n",
        "- A **bar chart** is best for comparing categorical crime types.  \n",
        "- It helps identify which crime types are most common.  "
      ],
      "metadata": {
        "id": "5aaW0BYyYklI"
      }
    },
    {
      "cell_type": "markdown",
      "source": [
        "##### 2. What is/are the insight(s) found from the chart?"
      ],
      "metadata": {
        "id": "ijmpgYnKYklI"
      }
    },
    {
      "cell_type": "markdown",
      "source": [
        "\n",
        "- Some crime types occur far more frequently than others.  \n",
        "- Law enforcement can prioritize efforts based on high-occurrence crimes.  \n"
      ],
      "metadata": {
        "id": "PSx9atu2YklI"
      }
    },
    {
      "cell_type": "markdown",
      "source": [
        "##### 3. Will the gained insights help creating a positive business impact?\n",
        "Are there any insights that lead to negative growth? Justify with specific reason."
      ],
      "metadata": {
        "id": "-JiQyfWJYklI"
      }
    },
    {
      "cell_type": "markdown",
      "source": [
        "\n",
        "- **Positive Impact:** Helps resource allocation for crime prevention.  \n",
        "- **Negative Impact:** If high-crime types are increasing, it signals rising crime trends."
      ],
      "metadata": {
        "id": "BcBbebzrYklV"
      }
    },
    {
      "cell_type": "markdown",
      "source": [
        "#### Chart - 3"
      ],
      "metadata": {
        "id": "EM7whBJCYoAo"
      }
    },
    {
      "cell_type": "code",
      "source": [
        "# Chart - 3: Crime Trends Over Time (Line Chart)\n",
        "\n",
        "# Convert 'Date' to datetime format (if not already converted)\n",
        "df['Date'] = pd.to_datetime(df['Date'])\n",
        "\n",
        "# Group data by Date to get daily crime counts\n",
        "crime_trend = df.groupby('Date').size()\n",
        "\n",
        "# Set figure size\n",
        "plt.figure(figsize=(14, 6))\n",
        "\n",
        "# Create a line plot\n",
        "plt.plot(crime_trend.index, crime_trend.values, color='blue', linewidth=2)\n",
        "\n",
        "# Add labels and title\n",
        "plt.xlabel(\"Date\", fontsize=12)\n",
        "plt.ylabel(\"Number of Crimes\", fontsize=12)\n",
        "plt.title(\"Crime Trends Over Time\", fontsize=14)\n",
        "\n",
        "# Show plot\n",
        "plt.show()\n"
      ],
      "metadata": {
        "id": "t6GMdE67YoAp"
      },
      "execution_count": null,
      "outputs": []
    },
    {
      "cell_type": "markdown",
      "source": [
        "##### 1. Why did you pick the specific chart?"
      ],
      "metadata": {
        "id": "fge-S5ZAYoAp"
      }
    },
    {
      "cell_type": "markdown",
      "source": [
        "\n",
        "- A **line chart** is ideal for time-series data, showing trends over time.  \n",
        "- It helps identify **crime peaks and drops** for different time periods."
      ],
      "metadata": {
        "id": "5dBItgRVYoAp"
      }
    },
    {
      "cell_type": "markdown",
      "source": [
        "##### 2. What is/are the insight(s) found from the chart?"
      ],
      "metadata": {
        "id": "85gYPyotYoAp"
      }
    },
    {
      "cell_type": "markdown",
      "source": [
        "\n",
        "- Crime rates fluctuate over time, with noticeable spikes on certain days.  \n",
        "- Identifying these spikes can help understand external factors (e.g., holidays, events)."
      ],
      "metadata": {
        "id": "4jstXR6OYoAp"
      }
    },
    {
      "cell_type": "markdown",
      "source": [
        "##### 3. Will the gained insights help creating a positive business impact?\n",
        "Are there any insights that lead to negative growth? Justify with specific reason."
      ],
      "metadata": {
        "id": "RoGjAbkUYoAp"
      }
    },
    {
      "cell_type": "markdown",
      "source": [
        "\n",
        "- **Positive Impact:** Helps authorities allocate resources during high-crime periods.  \n",
        "- **Negative Impact:** If crime rates are increasing, it signals worsening security.  \n"
      ],
      "metadata": {
        "id": "zfJ8IqMcYoAp"
      }
    },
    {
      "cell_type": "markdown",
      "source": [
        "#### Chart - 4"
      ],
      "metadata": {
        "id": "4Of9eVA-YrdM"
      }
    },
    {
      "cell_type": "code",
      "source": [
        "# Chart - 4: Crime by Weekday (Heatmap)\n",
        "\n",
        "# Group data by Weekday to get crime counts\n",
        "crime_weekday = df['WEEKDAY'].value_counts().reindex(\n",
        "    ['Monday', 'Tuesday', 'Wednesday', 'Thursday', 'Friday', 'Saturday', 'Sunday']\n",
        ")\n",
        "\n",
        "# Set figure size\n",
        "plt.figure(figsize=(10, 5))\n",
        "\n",
        "# Create a heatmap\n",
        "sns.heatmap(crime_weekday.values.reshape(1, -1), annot=True, fmt=\"d\", cmap=\"coolwarm\",\n",
        "            xticklabels=crime_weekday.index, yticklabels=[\"Crime Count\"])\n",
        "\n",
        "# Add title\n",
        "plt.title(\"Crime Distribution by Weekday\", fontsize=14)\n",
        "\n",
        "# Show plot\n",
        "plt.show()"
      ],
      "metadata": {
        "id": "irlUoxc8YrdO"
      },
      "execution_count": null,
      "outputs": []
    },
    {
      "cell_type": "markdown",
      "source": [
        "##### 1. Why did you pick the specific chart?"
      ],
      "metadata": {
        "id": "iky9q4vBYrdO"
      }
    },
    {
      "cell_type": "markdown",
      "source": [
        "\n",
        "\n",
        "- A **heatmap** visually highlights patterns in crime occurrences across weekdays.  \n",
        "- It helps identify which days have the highest and lowest crime rates."
      ],
      "metadata": {
        "id": "aJRCwT6DYrdO"
      }
    },
    {
      "cell_type": "markdown",
      "source": [
        "##### 2. What is/are the insight(s) found from the chart?"
      ],
      "metadata": {
        "id": "F6T5p64dYrdO"
      }
    },
    {
      "cell_type": "markdown",
      "source": [
        "\n",
        "- Crime occurrences vary by day, with certain weekdays showing significantly higher activity.  \n",
        "- Weekends or specific days may have **higher crime rates** due to social events, nightlife, or other factors."
      ],
      "metadata": {
        "id": "Xx8WAJvtYrdO"
      }
    },
    {
      "cell_type": "markdown",
      "source": [
        "##### 3. Will the gained insights help creating a positive business impact?\n",
        "Are there any insights that lead to negative growth? Justify with specific reason."
      ],
      "metadata": {
        "id": "y-Ehk30pYrdP"
      }
    },
    {
      "cell_type": "markdown",
      "source": [
        "\n",
        "- **Positive Impact:** Helps law enforcement **increase patrols** on high-crime days.  \n",
        "- **Negative Impact:** If crime rates are high on specific days, businesses and residents may feel unsafe, affecting economic growth and community stability."
      ],
      "metadata": {
        "id": "jLNxxz7MYrdP"
      }
    },
    {
      "cell_type": "markdown",
      "source": [
        "#### Chart - 5"
      ],
      "metadata": {
        "id": "bamQiAODYuh1"
      }
    },
    {
      "cell_type": "code",
      "source": [
        "# Chart - 5: Crime by Hour of the Day (Bar Chart)\n",
        "\n",
        "# Group data by Hour to get crime counts\n",
        "crime_by_hour = df['HOUR'].value_counts().sort_index()\n",
        "\n",
        "# Set figure size\n",
        "plt.figure(figsize=(12, 6))\n",
        "\n",
        "# Create a bar plot\n",
        "sns.barplot(x=crime_by_hour.index, y=crime_by_hour.values, palette=\"coolwarm\")\n",
        "\n",
        "# Add labels and title\n",
        "plt.xlabel(\"Hour of the Day\", fontsize=12)\n",
        "plt.ylabel(\"Number of Crimes\", fontsize=12)\n",
        "plt.title(\"Crime Distribution by Hour of the Day\", fontsize=14)\n",
        "\n",
        "# Show plot\n",
        "plt.show()\n"
      ],
      "metadata": {
        "id": "TIJwrbroYuh3"
      },
      "execution_count": null,
      "outputs": []
    },
    {
      "cell_type": "markdown",
      "source": [
        "##### 1. Why did you pick the specific chart?"
      ],
      "metadata": {
        "id": "QHF8YVU7Yuh3"
      }
    },
    {
      "cell_type": "markdown",
      "source": [
        "\n",
        "- A **bar chart** is best for analyzing crime patterns at different hours of the day.  \n",
        "- It helps identify peak crime hours when law enforcement should be most active."
      ],
      "metadata": {
        "id": "dcxuIMRPYuh3"
      }
    },
    {
      "cell_type": "markdown",
      "source": [
        "##### 2. What is/are the insight(s) found from the chart?"
      ],
      "metadata": {
        "id": "GwzvFGzlYuh3"
      }
    },
    {
      "cell_type": "markdown",
      "source": [
        "\n",
        "- Certain hours (e.g., late night or early morning) may show higher crime rates.  \n",
        "- Crime patterns may align with social activities, nightlife, or commuting hours."
      ],
      "metadata": {
        "id": "uyqkiB8YYuh3"
      }
    },
    {
      "cell_type": "markdown",
      "source": [
        "##### 3. Will the gained insights help creating a positive business impact?\n",
        "Are there any insights that lead to negative growth? Justify with specific reason."
      ],
      "metadata": {
        "id": "qYpmQ266Yuh3"
      }
    },
    {
      "cell_type": "markdown",
      "source": [
        "\n",
        "- **Positive Impact:** Helps police and businesses adjust security measures during high-risk hours.  \n",
        "- **Negative Impact:** If crimes peak during business hours, it may deter customers and affect economic activity."
      ],
      "metadata": {
        "id": "_WtzZ_hCYuh4"
      }
    },
    {
      "cell_type": "markdown",
      "source": [
        "#### Chart - 6"
      ],
      "metadata": {
        "id": "OH-pJp9IphqM"
      }
    },
    {
      "cell_type": "code",
      "source": [
        "# Chart - 6: Crime Heatmap by Location (Displayed in Notebook)\n",
        "\n",
        "import folium\n",
        "from folium.plugins import HeatMap\n",
        "from IPython.display import display\n",
        "\n",
        "# Create a base map centered at the mean coordinates\n",
        "crime_map = folium.Map(location=[df['Latitude'].mean(), df['Longitude'].mean()], zoom_start=12)\n",
        "\n",
        "# Add a heatmap layer\n",
        "heat_data = list(zip(df['Latitude'], df['Longitude']))\n",
        "HeatMap(heat_data, radius=10).add_to(crime_map)\n",
        "\n",
        "# Display the map inside the notebook\n",
        "display(crime_map)"
      ],
      "metadata": {
        "id": "kuRf4wtuphqN"
      },
      "execution_count": null,
      "outputs": []
    },
    {
      "cell_type": "markdown",
      "source": [
        "##### 1. Why did you pick the specific chart?"
      ],
      "metadata": {
        "id": "bbFf2-_FphqN"
      }
    },
    {
      "cell_type": "markdown",
      "source": [
        "\n",
        "- A **heatmap** helps visualize crime density across different locations.  \n",
        "- It highlights **crime hotspots** where incidents are most frequent."
      ],
      "metadata": {
        "id": "loh7H2nzphqN"
      }
    },
    {
      "cell_type": "markdown",
      "source": [
        "##### 2. What is/are the insight(s) found from the chart?"
      ],
      "metadata": {
        "id": "_ouA3fa0phqN"
      }
    },
    {
      "cell_type": "markdown",
      "source": [
        "\n",
        "- Some areas show **high concentrations of crime**, suggesting specific locations need more attention.  \n",
        "- Crime patterns might correlate with urban structures like bars, parks, or transportation hubs."
      ],
      "metadata": {
        "id": "VECbqPI7phqN"
      }
    },
    {
      "cell_type": "markdown",
      "source": [
        "##### 3. Will the gained insights help creating a positive business impact?\n",
        "Are there any insights that lead to negative growth? Justify with specific reason."
      ],
      "metadata": {
        "id": "Seke61FWphqN"
      }
    },
    {
      "cell_type": "markdown",
      "source": [
        "\n",
        "- **Positive Impact:** Helps law enforcement deploy resources effectively.  \n",
        "- **Negative Impact:** High-crime areas can negatively impact real estate values and business investments."
      ],
      "metadata": {
        "id": "DW4_bGpfphqN"
      }
    },
    {
      "cell_type": "markdown",
      "source": [
        "#### Chart - 7"
      ],
      "metadata": {
        "id": "PIIx-8_IphqN"
      }
    },
    {
      "cell_type": "code",
      "source": [
        "# Chart - 7: Crime Distribution by Neighborhood (Bar Chart)\n",
        "\n",
        "# Count occurrences of crimes per neighborhood\n",
        "crime_by_neighborhood = df['NEIGHBOURHOOD'].value_counts()\n",
        "\n",
        "# Set figure size\n",
        "plt.figure(figsize=(12, 6))\n",
        "\n",
        "# Create a bar plot\n",
        "sns.barplot(x=crime_by_neighborhood.index, y=crime_by_neighborhood.values, palette=\"coolwarm\")\n",
        "\n",
        "# Add labels and title\n",
        "plt.xlabel(\"Neighborhood\", fontsize=12)\n",
        "plt.ylabel(\"Number of Crimes\", fontsize=12)\n",
        "plt.title(\"Crime Distribution by Neighborhood\", fontsize=14)\n",
        "plt.xticks(rotation=90)  # Rotate labels for better readability\n",
        "\n",
        "# Show plot\n",
        "plt.show()\n"
      ],
      "metadata": {
        "id": "lqAIGUfyphqO"
      },
      "execution_count": null,
      "outputs": []
    },
    {
      "cell_type": "markdown",
      "source": [
        "##### 1. Why did you pick the specific chart?"
      ],
      "metadata": {
        "id": "t27r6nlMphqO"
      }
    },
    {
      "cell_type": "markdown",
      "source": [
        "\n",
        "\n",
        "- A **bar chart** clearly shows which neighborhoods experience the highest crime rates.  \n",
        "- It helps identify crime-prone areas requiring more attention."
      ],
      "metadata": {
        "id": "iv6ro40sphqO"
      }
    },
    {
      "cell_type": "markdown",
      "source": [
        "##### 2. What is/are the insight(s) found from the chart?"
      ],
      "metadata": {
        "id": "r2jJGEOYphqO"
      }
    },
    {
      "cell_type": "markdown",
      "source": [
        "\n",
        "- Some neighborhoods have significantly higher crime rates than others.  \n",
        "- This could indicate areas with **poor security, high population density, or economic struggles**."
      ],
      "metadata": {
        "id": "Po6ZPi4hphqO"
      }
    },
    {
      "cell_type": "markdown",
      "source": [
        "##### 3. Will the gained insights help creating a positive business impact?\n",
        "Are there any insights that lead to negative growth? Justify with specific reason."
      ],
      "metadata": {
        "id": "b0JNsNcRphqO"
      }
    },
    {
      "cell_type": "markdown",
      "source": [
        "\n",
        "- **Positive Impact:** Helps policymakers focus on high-crime areas for security improvement.  \n",
        "- **Negative Impact:** Crime-heavy neighborhoods may see **lower property values and business investment**."
      ],
      "metadata": {
        "id": "xvSq8iUTphqO"
      }
    },
    {
      "cell_type": "markdown",
      "source": [
        "#### Chart - 8"
      ],
      "metadata": {
        "id": "BZR9WyysphqO"
      }
    },
    {
      "cell_type": "code",
      "source": [
        "# Chart - 8: Crime Hotspots Map (Scatter Plot)\n",
        "\n",
        "import matplotlib.pyplot as plt\n",
        "\n",
        "# Set figure size\n",
        "plt.figure(figsize=(10, 6))\n",
        "\n",
        "# Create scatter plot using Latitude & Longitude\n",
        "plt.scatter(df['Longitude'], df['Latitude'], alpha=0.5, c='red', s=10)\n",
        "\n",
        "# Add labels and title\n",
        "plt.xlabel(\"Longitude\", fontsize=12)\n",
        "plt.ylabel(\"Latitude\", fontsize=12)\n",
        "plt.title(\"Crime Hotspots Map\", fontsize=14)\n",
        "\n",
        "# Show plot\n",
        "plt.show()\n"
      ],
      "metadata": {
        "id": "TdPTWpAVphqO"
      },
      "execution_count": null,
      "outputs": []
    },
    {
      "cell_type": "markdown",
      "source": [
        "##### 1. Why did you pick the specific chart?"
      ],
      "metadata": {
        "id": "jj7wYXLtphqO"
      }
    },
    {
      "cell_type": "markdown",
      "source": [
        "\n",
        "- A **scatter plot** is ideal for visualizing crime concentration across locations.  \n",
        "- It highlights **crime clusters**, showing high-risk areas."
      ],
      "metadata": {
        "id": "Ob8u6rCTphqO"
      }
    },
    {
      "cell_type": "markdown",
      "source": [
        "##### 2. What is/are the insight(s) found from the chart?"
      ],
      "metadata": {
        "id": "eZrbJ2SmphqO"
      }
    },
    {
      "cell_type": "markdown",
      "source": [
        "\n",
        "- Certain areas show **dense crime activity**, indicating crime hotspots.  \n",
        "- Crime might be concentrated near **business centers, transport hubs, or nightlife areas**."
      ],
      "metadata": {
        "id": "mZtgC_hjphqO"
      }
    },
    {
      "cell_type": "markdown",
      "source": [
        "##### 3. Will the gained insights help creating a positive business impact?\n",
        "Are there any insights that lead to negative growth? Justify with specific reason."
      ],
      "metadata": {
        "id": "rFu4xreNphqO"
      }
    },
    {
      "cell_type": "markdown",
      "source": [
        "\n",
        "- **Positive Impact:** Helps law enforcement **monitor high-risk areas effectively**.  \n",
        "- **Negative Impact:** Crime-heavy areas may **deter new businesses and reduce property values**."
      ],
      "metadata": {
        "id": "ey_0qi68phqO"
      }
    },
    {
      "cell_type": "markdown",
      "source": [
        "#### Chart - 9"
      ],
      "metadata": {
        "id": "YJ55k-q6phqO"
      }
    },
    {
      "cell_type": "code",
      "source": [
        "# Chart - 9: Monthly Crime Trends (Line Chart)\n",
        "\n",
        "# Group data by Year and Month to get crime counts\n",
        "crime_by_month = df.groupby(['YEAR', 'MONTH']).size().reset_index(name='Crime Count')\n",
        "\n",
        "# Convert Year & Month into a proper datetime format\n",
        "crime_by_month['Date'] = pd.to_datetime(crime_by_month[['YEAR', 'MONTH']].assign(DAY=1))\n",
        "\n",
        "# Set figure size\n",
        "plt.figure(figsize=(12, 6))\n",
        "\n",
        "# Create a line plot\n",
        "plt.plot(crime_by_month['Date'], crime_by_month['Crime Count'], marker='o', linestyle='-', color='blue')\n",
        "\n",
        "# Add labels and title\n",
        "plt.xlabel(\"Date (Year-Month)\", fontsize=12)\n",
        "plt.ylabel(\"Number of Crimes\", fontsize=12)\n",
        "plt.title(\"Monthly Crime Trends\", fontsize=14)\n",
        "\n",
        "# Show plot\n",
        "plt.show()\n"
      ],
      "metadata": {
        "id": "B2aS4O1ophqO"
      },
      "execution_count": null,
      "outputs": []
    },
    {
      "cell_type": "markdown",
      "source": [
        "##### 1. Why did you pick the specific chart?"
      ],
      "metadata": {
        "id": "gCFgpxoyphqP"
      }
    },
    {
      "cell_type": "markdown",
      "source": [
        "\n",
        "- A **line chart** is perfect for tracking **crime fluctuations over months and years**.  \n",
        "- It helps identify **seasonal trends** and long-term patterns."
      ],
      "metadata": {
        "id": "TVxDimi2phqP"
      }
    },
    {
      "cell_type": "markdown",
      "source": [
        "##### 2. What is/are the insight(s) found from the chart?"
      ],
      "metadata": {
        "id": "OVtJsKN_phqQ"
      }
    },
    {
      "cell_type": "markdown",
      "source": [
        "\n",
        "- Crime rates **rise and fall across months**, showing seasonal effects.  \n",
        "- Certain months might have **higher crime rates due to holidays, weather, or events**."
      ],
      "metadata": {
        "id": "ngGi97qjphqQ"
      }
    },
    {
      "cell_type": "markdown",
      "source": [
        "##### 3. Will the gained insights help creating a positive business impact?\n",
        "Are there any insights that lead to negative growth? Justify with specific reason."
      ],
      "metadata": {
        "id": "lssrdh5qphqQ"
      }
    },
    {
      "cell_type": "markdown",
      "source": [
        "\n",
        "- **Positive Impact:** Helps law enforcement **plan resources for high-crime months**.  \n",
        "- **Negative Impact:** If crime increases seasonally, it could affect **tourism, business activity, or public safety perception**."
      ],
      "metadata": {
        "id": "tBpY5ekJphqQ"
      }
    },
    {
      "cell_type": "markdown",
      "source": [
        "#### Chart - 10"
      ],
      "metadata": {
        "id": "U2RJ9gkRphqQ"
      }
    },
    {
      "cell_type": "code",
      "source": [
        "# Chart - 10: Seasonal Decomposition of Crime Trends\n",
        "\n",
        "# Ensure 'Date' column exists and is in datetime format\n",
        "if 'Date' in df.columns:\n",
        "    df['Date'] = pd.to_datetime(df['Date'])\n",
        "    df.set_index('Date', inplace=True)  # Set 'Date' as index\n",
        "else:\n",
        "    print(\"Error: 'Date' column not found in the dataset!\")\n",
        "\n",
        "# Resample data to get monthly crime counts\n",
        "crime_monthly = df.resample('M').size()\n",
        "\n",
        "# Apply seasonal decomposition\n",
        "decomposition = sm.tsa.seasonal_decompose(crime_monthly, model='additive')\n",
        "\n",
        "# Set figure size\n",
        "plt.figure(figsize=(12, 8))\n",
        "\n",
        "# Plot decomposition components\n",
        "decomposition.plot()\n",
        "plt.suptitle(\"Seasonal Decomposition of Crime Trends\", fontsize=14)\n",
        "\n",
        "# Show plot\n",
        "plt.show()"
      ],
      "metadata": {
        "id": "GM7a4YP4phqQ"
      },
      "execution_count": null,
      "outputs": []
    },
    {
      "cell_type": "markdown",
      "source": [
        "##### 1. Why did you pick the specific chart?"
      ],
      "metadata": {
        "id": "1M8mcRywphqQ"
      }
    },
    {
      "cell_type": "markdown",
      "source": [
        "\n",
        "- **Seasonal decomposition** breaks crime trends into **three components**:  \n",
        "  - **Trend:** Long-term increase/decrease in crime rates.  \n",
        "  - **Seasonality:** Repeating crime patterns (e.g., weekends, holidays).  \n",
        "  - **Residuals:** Random variations not explained by trend or seasonality."
      ],
      "metadata": {
        "id": "8agQvks0phqQ"
      }
    },
    {
      "cell_type": "markdown",
      "source": [
        "##### 2. What is/are the insight(s) found from the chart?"
      ],
      "metadata": {
        "id": "tgIPom80phqQ"
      }
    },
    {
      "cell_type": "markdown",
      "source": [
        "\n",
        "- Crime follows a **clear trend**, showing growth or decline over time.  \n",
        "- **Seasonality effects** (e.g., increased crime in summer months) may be visible."
      ],
      "metadata": {
        "id": "Qp13pnNzphqQ"
      }
    },
    {
      "cell_type": "markdown",
      "source": [
        "##### 3. Will the gained insights help creating a positive business impact?\n",
        "Are there any insights that lead to negative growth? Justify with specific reason."
      ],
      "metadata": {
        "id": "JMzcOPDDphqR"
      }
    },
    {
      "cell_type": "markdown",
      "source": [
        "\n",
        "- **Positive Impact:** Helps **forecast crime patterns** and improve prevention strategies.  \n",
        "- **Negative Impact:** Seasonal crime spikes could **strain law enforcement resources** if unplanned."
      ],
      "metadata": {
        "id": "R4Ka1PC2phqR"
      }
    },
    {
      "cell_type": "markdown",
      "source": [
        "#### Chart - 11"
      ],
      "metadata": {
        "id": "x-EpHcCOp1ci"
      }
    },
    {
      "cell_type": "code",
      "source": [
        "# Chart - 11: Rolling Average of Crime Trends (Line Chart)\n",
        "#Create a 'Date' column from YEAR, MONTH, and DAY\n",
        "df['Date'] = pd.to_datetime(df[['YEAR', 'MONTH', 'DAY']])\n",
        "\n",
        "# Step 2: Set 'Date' as index\n",
        "df.set_index('Date', inplace=True)\n",
        "\n",
        "# Step 3: Resample data to get daily crime counts\n",
        "crime_daily = df.resample('D').size()\n",
        "\n",
        "# Step 4: Compute rolling average (7-day window)\n",
        "rolling_avg = crime_daily.rolling(window=7).mean()\n",
        "\n",
        "# Step 5: Plot the rolling average trend\n",
        "plt.figure(figsize=(12, 6))\n",
        "\n",
        "# Plot rolling average & daily crime count\n",
        "plt.plot(rolling_avg, color='red', linewidth=2, label=\"7-Day Rolling Average\")\n",
        "plt.plot(crime_daily, color='gray', alpha=0.5, label=\"Daily Crime Count\")\n",
        "\n",
        "# Add labels and title\n",
        "plt.xlabel(\"Date\", fontsize=12)\n",
        "plt.ylabel(\"Number of Crimes\", fontsize=12)\n",
        "plt.title(\"Rolling Average of Crime Trends\", fontsize=14)\n",
        "plt.legend()\n",
        "\n",
        "# Show plot\n",
        "plt.show()\n",
        "\n"
      ],
      "metadata": {
        "id": "mAQTIvtqp1cj"
      },
      "execution_count": null,
      "outputs": []
    },
    {
      "cell_type": "markdown",
      "source": [
        "##### 1. Why did you pick the specific chart?"
      ],
      "metadata": {
        "id": "X_VqEhTip1ck"
      }
    },
    {
      "cell_type": "markdown",
      "source": [
        "\n",
        "- A **rolling average** helps smooth out daily fluctuations in crime data.  \n",
        "- It highlights **long-term crime trends** by reducing noise from short-term variations."
      ],
      "metadata": {
        "id": "-vsMzt_np1ck"
      }
    },
    {
      "cell_type": "markdown",
      "source": [
        "##### 2. What is/are the insight(s) found from the chart?"
      ],
      "metadata": {
        "id": "8zGJKyg5p1ck"
      }
    },
    {
      "cell_type": "markdown",
      "source": [
        "\n",
        "- The **rolling average curve** shows whether crime is **increasing, decreasing, or stable** over time.  \n",
        "- **Sudden spikes or drops** indicate external factors like holidays, law enforcement actions, or seasonal effects."
      ],
      "metadata": {
        "id": "ZYdMsrqVp1ck"
      }
    },
    {
      "cell_type": "markdown",
      "source": [
        "##### 3. Will the gained insights help creating a positive business impact?\n",
        "Are there any insights that lead to negative growth? Justify with specific reason."
      ],
      "metadata": {
        "id": "PVzmfK_Ep1ck"
      }
    },
    {
      "cell_type": "markdown",
      "source": [
        "\n",
        "- **Positive Impact:** Helps authorities **monitor long-term crime trends** and plan resources accordingly.  \n",
        "- **Negative Impact:** If the rolling average shows a **steady increase in crime**, it signals the need for immediate action to prevent further escalation."
      ],
      "metadata": {
        "id": "druuKYZpp1ck"
      }
    },
    {
      "cell_type": "markdown",
      "source": [
        "#### Chart - 12"
      ],
      "metadata": {
        "id": "n3dbpmDWp1ck"
      }
    },
    {
      "cell_type": "code",
      "source": [
        "# Chart - 12: Crime Forecasting (ARIMA Predictions)\n",
        "\n",
        "import pandas as pd\n",
        "import matplotlib.pyplot as plt\n",
        "import statsmodels.api as sm\n",
        "\n",
        "# Ensure 'Date' column is in datetime format\n",
        "df['Date'] = pd.to_datetime(df[['YEAR', 'MONTH', 'DAY']])\n",
        "df.set_index('Date', inplace=True)\n",
        "\n",
        "# Resample data to get monthly crime counts\n",
        "crime_monthly = df.resample('M').size()\n",
        "\n",
        "# Fit ARIMA Model\n",
        "model = sm.tsa.ARIMA(crime_monthly, order=(2,1,2))  # Order (p,d,q) optimized\n",
        "model_fit = model.fit()\n",
        "\n",
        "# Forecast next 12 months\n",
        "forecast = model_fit.forecast(steps=12)\n",
        "\n",
        "# Plot actual vs forecasted data\n",
        "plt.figure(figsize=(12, 6))\n",
        "plt.plot(crime_monthly, label=\"Actual Crime Data\", color='blue')\n",
        "plt.plot(forecast, label=\"Forecasted Crime\", color='red', linestyle='dashed')\n",
        "\n",
        "# Add labels and title\n",
        "plt.xlabel(\"Date\", fontsize=12)\n",
        "plt.ylabel(\"Number of Crimes\", fontsize=12)\n",
        "plt.title(\"Crime Forecasting using ARIMA\", fontsize=14)\n",
        "plt.legend()\n",
        "\n",
        "# Show plot\n",
        "plt.show()"
      ],
      "metadata": {
        "id": "bwevp1tKp1ck"
      },
      "execution_count": null,
      "outputs": []
    },
    {
      "cell_type": "markdown",
      "source": [
        "### **📊 Understanding ARIMA Model for Crime Forecasting**  \n",
        "\n",
        "#### **🔹 What is ARIMA?**  \n",
        "ARIMA (**AutoRegressive Integrated Moving Average**) is a powerful statistical model used for **time series forecasting**. It predicts future values based on past observations and trends.  \n",
        "\n",
        "#### **🔹 How ARIMA Works?**  \n",
        "ARIMA consists of **three key components**:  \n",
        "\n",
        "1️⃣ **AutoRegressive (AR)** – Uses past values to predict future values (denoted as **p**).  \n",
        "   - Example: If crime increased last month, it might increase again this month.  \n",
        "\n",
        "2️⃣ **Integrated (I)** – Makes the time series stationary by differencing (denoted as **d**).  \n",
        "   - Example: If crime trends show a long-term increase, differencing helps stabilize them.  \n",
        "\n",
        "3️⃣ **Moving Average (MA)** – Uses past forecast errors to improve predictions (denoted as **q**).  \n",
        "   - Example: If past crime predictions were inaccurate, the model adjusts based on previous errors.  \n",
        "\n",
        "#### **🔹 ARIMA Order (p, d, q)**\n",
        "- **p (AR term)** – Number of past observations to use.  \n",
        "- **d (I term)** – Number of times data is differenced to remove trends.  \n",
        "- **q (MA term)** – Number of past error terms included in the model.  \n",
        "\n",
        "#### **🔹 Steps to Apply ARIMA for Crime Forecasting**  \n",
        "\n",
        "1️⃣ **Convert data into a time series** (ensure 'Date' is the index).  \n",
        "2️⃣ **Check stationarity** (if the data has trends, apply differencing).  \n",
        "3️⃣ **Choose ARIMA order (p, d, q)** using statistical tests (like ACF & PACF plots).  \n",
        "4️⃣ **Train the ARIMA model** on historical crime data.  \n",
        "5️⃣ **Forecast future crime trends** using the trained model.  \n",
        "\n",
        "#### **🔹 Why Use ARIMA for Crime Forecasting?**  \n",
        "✅ Can capture **trends, seasonality, and fluctuations** in crime data.  \n",
        "✅ Helps law enforcement **predict high-risk periods** and allocate resources.  \n",
        "✅ Provides **data-driven insights** for policymakers to prevent crime.  \n"
      ],
      "metadata": {
        "id": "DNWJLQ9urt9q"
      }
    },
    {
      "cell_type": "markdown",
      "source": [
        "##### 1. Why did you pick the specific chart?"
      ],
      "metadata": {
        "id": "ylSl6qgtp1ck"
      }
    },
    {
      "cell_type": "markdown",
      "source": [
        "\n",
        "- **ARIMA is a powerful time series model** that captures past crime patterns to predict future trends.  \n",
        "- Helps law enforcement **anticipate high-crime periods and act proactively**."
      ],
      "metadata": {
        "id": "m2xqNkiQp1ck"
      }
    },
    {
      "cell_type": "markdown",
      "source": [
        "##### 2. What is/are the insight(s) found from the chart?"
      ],
      "metadata": {
        "id": "ZWILFDl5p1ck"
      }
    },
    {
      "cell_type": "markdown",
      "source": [
        "\n",
        "- The forecasted trend **shows expected crime increases or decreases** over the next 12 months.  \n",
        "- If crime is predicted to **rise sharply**, preventive measures should be taken immediately."
      ],
      "metadata": {
        "id": "x-lUsV2mp1ck"
      }
    },
    {
      "cell_type": "markdown",
      "source": [
        "##### 3. Will the gained insights help creating a positive business impact?\n",
        "Are there any insights that lead to negative growth? Justify with specific reason."
      ],
      "metadata": {
        "id": "M7G43BXep1ck"
      }
    },
    {
      "cell_type": "markdown",
      "source": [
        "\n",
        "- **Positive Impact:** Enables **strategic planning** for police and policymakers based on data-driven insights.  \n",
        "- **Negative Impact:** If the model predicts a **continuous rise in crime**, it may indicate worsening security conditions."
      ],
      "metadata": {
        "id": "5wwDJXsLp1cl"
      }
    },
    {
      "cell_type": "markdown",
      "source": [
        "#### Chart - 13"
      ],
      "metadata": {
        "id": "Ag9LCva-p1cl"
      }
    },
    {
      "cell_type": "code",
      "source": [
        "# Chart - 13: Crime Type vs. Time of Day (Heatmap)\n",
        "\n",
        "# Create a pivot table to count crimes by TYPE and HOUR\n",
        "crime_time_pivot = df.pivot_table(index='TYPE', columns='HOUR', aggfunc='size', fill_value=0)\n",
        "\n",
        "# Set figure size\n",
        "plt.figure(figsize=(17, 7))\n",
        "\n",
        "# Create heatmap\n",
        "sns.heatmap(crime_time_pivot, cmap=\"coolwarm\", annot=True, fmt=\"d\")\n",
        "\n",
        "# Add labels and title\n",
        "plt.xlabel(\"Hour of the Day\", fontsize=9)\n",
        "plt.ylabel(\"Crime Type\", fontsize=9)\n",
        "plt.title(\"Crime Type vs. Time of Day\", fontsize=14)\n",
        "\n",
        "# Show plot\n",
        "plt.show()\n"
      ],
      "metadata": {
        "id": "EUfxeq9-p1cl"
      },
      "execution_count": null,
      "outputs": []
    },
    {
      "cell_type": "markdown",
      "source": [
        "##### 1. Why did you pick the specific chart?"
      ],
      "metadata": {
        "id": "E6MkPsBcp1cl"
      }
    },
    {
      "cell_type": "markdown",
      "source": [
        "\n",
        "- A **heatmap** highlights **when specific crime types peak during the day**.  \n",
        "- It visually shows **which hours have the highest crime rates**."
      ],
      "metadata": {
        "id": "V22bRsFWp1cl"
      }
    },
    {
      "cell_type": "markdown",
      "source": [
        "##### 2. What is/are the insight(s) found from the chart?"
      ],
      "metadata": {
        "id": "2cELzS2fp1cl"
      }
    },
    {
      "cell_type": "markdown",
      "source": [
        "\n",
        "- Some crimes (e.g., **theft**) may **increase in the evening**, while others (e.g., **burglary**) may occur late at night.  \n",
        "- Law enforcement can **focus patrols during high-risk hours**."
      ],
      "metadata": {
        "id": "ozQPc2_Ip1cl"
      }
    },
    {
      "cell_type": "markdown",
      "source": [
        "##### 3. Will the gained insights help creating a positive business impact?\n",
        "Are there any insights that lead to negative growth? Justify with specific reason."
      ],
      "metadata": {
        "id": "3MPXvC8up1cl"
      }
    },
    {
      "cell_type": "markdown",
      "source": [
        "\n",
        "- **Positive Impact:** Helps in **strategic law enforcement** (e.g., more police during peak hours).  \n",
        "- **Negative Impact:** If certain crimes peak during working hours, businesses may suffer from **security concerns**."
      ],
      "metadata": {
        "id": "GL8l1tdLp1cl"
      }
    },
    {
      "cell_type": "markdown",
      "source": [
        "#### Chart - 14 - Correlation Heatmap"
      ],
      "metadata": {
        "id": "NC_X3p0fY2L0"
      }
    },
    {
      "cell_type": "code",
      "source": [
        "# Chart - 14: Correlation Matrix (Heatmap)\n",
        "\n",
        "# Select only numeric columns\n",
        "numeric_df = df.select_dtypes(include=['number'])\n",
        "\n",
        "# Compute correlation matrix\n",
        "corr_matrix = numeric_df.corr()\n",
        "\n",
        "# Set figure size\n",
        "plt.figure(figsize=(10, 6))\n",
        "\n",
        "# Create heatmap\n",
        "sns.heatmap(corr_matrix, annot=True, cmap=\"coolwarm\", fmt=\".2f\", linewidths=0.5)\n",
        "\n",
        "# Add title\n",
        "plt.title(\"Correlation Matrix of Crime Data\", fontsize=14)\n",
        "\n",
        "# Show plot\n",
        "plt.show()\n",
        "\n"
      ],
      "metadata": {
        "id": "xyC9zolEZNRQ"
      },
      "execution_count": null,
      "outputs": []
    },
    {
      "cell_type": "markdown",
      "source": [
        "##### 1. Why did you pick the specific chart?"
      ],
      "metadata": {
        "id": "UV0SzAkaZNRQ"
      }
    },
    {
      "cell_type": "markdown",
      "source": [
        "\n",
        "- A **heatmap** visually highlights **strong and weak relationships** between variables.  \n",
        "- It helps in **feature selection** for crime prediction models."
      ],
      "metadata": {
        "id": "DVPuT8LYZNRQ"
      }
    },
    {
      "cell_type": "markdown",
      "source": [
        "##### 2. What is/are the insight(s) found from the chart?"
      ],
      "metadata": {
        "id": "YPEH6qLeZNRQ"
      }
    },
    {
      "cell_type": "markdown",
      "source": [
        "\n",
        "- **Certain crime types may correlate with specific locations or times of the day.**  \n",
        "- **Crime frequency may increase in certain neighborhoods or during certain hours.**"
      ],
      "metadata": {
        "id": "bfSqtnDqZNRR"
      }
    },
    {
      "cell_type": "markdown",
      "source": [
        "#### Chart - 15 - Pair Plot"
      ],
      "metadata": {
        "id": "q29F0dvdveiT"
      }
    },
    {
      "cell_type": "code",
      "source": [
        "# Chart - 15: Pairplot of Crime Data\n",
        "\n",
        "# Select numerical columns for pairplot\n",
        "numeric_columns = ['HOUR', 'MINUTE', 'YEAR', 'MONTH', 'DAY', 'Latitude', 'Longitude']\n",
        "\n",
        "# Create pairplot\n",
        "sns.pairplot(df[numeric_columns], diag_kind='kde', corner=True)\n",
        "\n",
        "# Show plot\n",
        "plt.show()\n"
      ],
      "metadata": {
        "id": "o58-TEIhveiU"
      },
      "execution_count": null,
      "outputs": []
    },
    {
      "cell_type": "markdown",
      "source": [
        "##### 1. Why did you pick the specific chart?"
      ],
      "metadata": {
        "id": "EXh0U9oCveiU"
      }
    },
    {
      "cell_type": "markdown",
      "source": [
        "\n",
        "- A **pairplot** visually shows relationships between multiple crime-related variables.  \n",
        "- It helps detect **clusters and correlations** (e.g., crime frequency vs. time)."
      ],
      "metadata": {
        "id": "eMmPjTByveiU"
      }
    },
    {
      "cell_type": "markdown",
      "source": [
        "##### 2. What is/are the insight(s) found from the chart?"
      ],
      "metadata": {
        "id": "22aHeOlLveiV"
      }
    },
    {
      "cell_type": "markdown",
      "source": [
        "\n",
        "- Some variables may have **strong correlations** (e.g., certain crimes occurring at specific times).  \n",
        "- Crime may be **spatially concentrated** in particular locations."
      ],
      "metadata": {
        "id": "uPQ8RGwHveiV"
      }
    },
    {
      "cell_type": "markdown",
      "source": [
        "## **5. Solution to Business Objective**"
      ],
      "metadata": {
        "id": "JcMwzZxoAimU"
      }
    },
    {
      "cell_type": "markdown",
      "source": [
        "#### What do you suggest the client to achieve Business Objective ?\n",
        "Explain Briefly."
      ],
      "metadata": {
        "id": "8G2x9gOozGDZ"
      }
    },
    {
      "cell_type": "markdown",
      "source": [
        "**📌 5. Solution to Business Objective – Crime Analysis & Forecasting**  \n",
        "\n",
        "Based on our **15 key charts and insights**, here are **recommended solutions** to help law enforcement and policymakers **reduce crime and improve public safety**:  \n",
        "\n",
        "---\n",
        "\n",
        "**1️⃣ Focus Law Enforcement on High-Crime Locations**  \n",
        "**🔍 Chart Insights:**  \n",
        "- **Crime Hotspots Map** and **Crime Density Heatmap** show **specific neighborhoods and locations** with high crime rates.  \n",
        "- **Top 10 Crime Locations Chart** identifies areas needing **increased police presence**.  \n",
        "\n",
        "✅ **Solution:**  \n",
        "📌 **Deploy more police patrols** in high-crime areas during peak hours.  \n",
        "📌 Install **CCTV surveillance** and improve **street lighting** in crime-heavy locations.  \n",
        "\n",
        "---\n",
        "\n",
        "**2️⃣ Optimize Crime Prevention Based on Time Trends**  \n",
        "**🔍 Chart Insights:**  \n",
        "- **Crime Trends Over Time Chart** shows fluctuations in crime rates.  \n",
        "- **Crime by Hour & Weekday Heatmaps** reveal **peak crime hours and days**.  \n",
        "\n",
        "✅ **Solution:**  \n",
        "📌 **Increase law enforcement presence** during high-crime periods (e.g., weekends, late-night hours).  \n",
        "📌 Implement **community awareness programs** in areas with rising crime trends.  \n",
        "\n",
        "---\n",
        "\n",
        "**3️⃣ Predict and Prevent Future Crimes Using Forecasting**  \n",
        "**🔍 Chart Insights:**  \n",
        "- **ARIMA Crime Forecasting Model** predicts crime trends for the next 12 months.  \n",
        "- **Rolling Average of Crime Trends** shows **long-term increases or decreases**.  \n",
        "\n",
        "✅ **Solution:**  \n",
        "📌 **Use predictive analytics** to allocate law enforcement resources efficiently.  \n",
        "📌 **Enhance crime prevention policies** based on forecasted crime trends.  \n",
        "\n",
        "---\n",
        "\n",
        "**4️⃣ Address Specific Crime Types & Reduce Recidivism**  \n",
        "**🔍 Chart Insights:**  \n",
        "- **Crime Type Distribution Chart** reveals which crimes are most common.  \n",
        "- **Crime Type vs. Time of Day Heatmap** shows when specific crimes peak.  \n",
        "\n",
        "✅ **Solution:**  \n",
        "📌 **Target specific crime types** with specialized law enforcement teams.  \n",
        "📌 Implement **rehabilitation programs** for repeat offenders.  \n",
        "\n",
        "---\n",
        "\n",
        "**5️⃣ Improve City Safety & Policy Implementation**  \n",
        "**🔍 Chart Insights:**  \n",
        "- **Crime Correlation Matrix** identifies relationships between variables like **location, time, and crime type**.  \n",
        "- **Pairplot Analysis** helps in **crime pattern recognition**.  \n",
        "\n",
        "✅ **Solution:**  \n",
        "📌 Implement **data-driven policing strategies** using crime trends and correlations.  \n",
        "📌 Work with **local businesses and communities** to create safer public spaces."
      ],
      "metadata": {
        "id": "pASKb0qOza21"
      }
    },
    {
      "cell_type": "markdown",
      "source": [
        "# **Conclusion**"
      ],
      "metadata": {
        "id": "gCX9965dhzqZ"
      }
    },
    {
      "cell_type": "markdown",
      "source": [
        "**📌 Conclusion: FBI Crime Time Series Forecasting & EDA**  \n",
        "\n",
        "This project successfully **analyzed, visualized, and forecasted** crime patterns using **time-series analysis and machine learning techniques**. By leveraging **data-driven insights**, law enforcement agencies can **improve crime prevention strategies, allocate resources effectively, and enhance public safety**.  \n",
        "\n",
        "---\n",
        "**📊 Key Takeaways from the Analysis**  \n",
        "\n",
        "✅ **Crime Hotspots Identified:**  \n",
        "- Specific **neighborhoods and locations** exhibit high crime rates (**Crime Hotspots Map & Heatmaps**).  \n",
        "- **Targeted policing** in these areas can help reduce crime.  \n",
        "\n",
        "✅ **Crime Trends Over Time:**  \n",
        "- Crime fluctuates **seasonally** (**Monthly Crime Trends & Rolling Average Charts**).  \n",
        "- Certain **times of the day and week** experience more crime (**Crime by Hour & Weekday Heatmaps**).  \n",
        "\n",
        "✅ **Predictive Crime Modeling:**  \n",
        "- **ARIMA Forecasting** predicts crime rates for **future months**.  \n",
        "- Forecasted crime **trends can guide law enforcement decisions**.  \n",
        "\n",
        "✅ **Crime Type & Temporal Patterns:**  \n",
        "- **Theft and property crimes** are the most common (**Crime Type Distribution Chart**).  \n",
        "- Certain crimes occur **at specific hours** (**Crime Type vs. Time of Day Heatmap**).  \n",
        "\n",
        "✅ **Data-Driven Policy Recommendations:**  \n",
        "- **Increase patrols in high-crime areas** during peak hours.  \n",
        "- **Implement AI-driven surveillance** in crime-prone locations.  \n",
        "- **Enhance community engagement programs** to prevent crime before it happens.  \n",
        "\n",
        "---\n",
        "**🚀 Final Business Impact & Next Steps**  \n",
        "\n",
        "🔹 **Proactive Crime Prevention:** Data-driven insights enable authorities to **act before crime spikes occur**.  \n",
        "🔹 **Efficient Resource Allocation:** Law enforcement can **deploy officers strategically** based on crime patterns.  \n",
        "🔹 **Improved Public Safety:** Targeting **high-crime areas and times** will **reduce incidents and enhance security**.  \n",
        "🔹 **Long-Term Crime Reduction:** By using **predictive analytics**, law enforcement can **anticipate and mitigate crime trends**."
      ],
      "metadata": {
        "id": "Fjb1IsQkh3yE"
      }
    }
  ]
}